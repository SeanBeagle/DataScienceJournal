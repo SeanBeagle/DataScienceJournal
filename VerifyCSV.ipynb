{
 "cells": [
  {
   "cell_type": "markdown",
   "metadata": {},
   "source": [
    "# VERIFYING AN ILLUMINA SAMPLE SHEET"
   ]
  },
  {
   "cell_type": "code",
   "execution_count": 238,
   "metadata": {},
   "outputs": [],
   "source": [
    "import pandas as pd\n",
    "\n",
    "csv_in = '2020-05-14_NovaSeq.csv'"
   ]
  },
  {
   "cell_type": "markdown",
   "metadata": {},
   "source": [
    "## CREATE A DataFrame CALLED `df` FROM THE CSV"
   ]
  },
  {
   "cell_type": "code",
   "execution_count": 239,
   "metadata": {},
   "outputs": [
    {
     "name": "stdout",
     "output_type": "stream",
     "text": [
      "Rows:   384\n",
      "Plates: 4\n",
      "\n"
     ]
    },
    {
     "data": {
      "text/html": [
       "<div>\n",
       "<style scoped>\n",
       "    .dataframe tbody tr th:only-of-type {\n",
       "        vertical-align: middle;\n",
       "    }\n",
       "\n",
       "    .dataframe tbody tr th {\n",
       "        vertical-align: top;\n",
       "    }\n",
       "\n",
       "    .dataframe thead th {\n",
       "        text-align: right;\n",
       "    }\n",
       "</style>\n",
       "<table border=\"1\" class=\"dataframe\">\n",
       "  <thead>\n",
       "    <tr style=\"text-align: right;\">\n",
       "      <th></th>\n",
       "      <th>sample-number</th>\n",
       "      <th>plate</th>\n",
       "      <th>well</th>\n",
       "      <th>rawSample-name</th>\n",
       "      <th>sample-name</th>\n",
       "    </tr>\n",
       "  </thead>\n",
       "  <tbody>\n",
       "    <tr>\n",
       "      <th>0</th>\n",
       "      <td>1</td>\n",
       "      <td>1</td>\n",
       "      <td>A01</td>\n",
       "      <td>15-4-SW-2-1</td>\n",
       "      <td>15-4-SW-2-1</td>\n",
       "    </tr>\n",
       "    <tr>\n",
       "      <th>1</th>\n",
       "      <td>2</td>\n",
       "      <td>1</td>\n",
       "      <td>A02</td>\n",
       "      <td>15-4-SW-3-2</td>\n",
       "      <td>15-4-SW-3-2</td>\n",
       "    </tr>\n",
       "    <tr>\n",
       "      <th>2</th>\n",
       "      <td>3</td>\n",
       "      <td>1</td>\n",
       "      <td>A03</td>\n",
       "      <td>17-100-SW-A</td>\n",
       "      <td>17-100-SW-A-1-1-37</td>\n",
       "    </tr>\n",
       "    <tr>\n",
       "      <th>3</th>\n",
       "      <td>4</td>\n",
       "      <td>1</td>\n",
       "      <td>A04</td>\n",
       "      <td>17-100-SW-A</td>\n",
       "      <td>17-100-SW-A-1-3-30</td>\n",
       "    </tr>\n",
       "    <tr>\n",
       "      <th>4</th>\n",
       "      <td>5</td>\n",
       "      <td>1</td>\n",
       "      <td>A05</td>\n",
       "      <td>17-100-SW-B</td>\n",
       "      <td>17-100-SW-B-1-1-30</td>\n",
       "    </tr>\n",
       "  </tbody>\n",
       "</table>\n",
       "</div>"
      ],
      "text/plain": [
       "  sample-number plate well rawSample-name         sample-name\n",
       "0             1     1  A01    15-4-SW-2-1         15-4-SW-2-1\n",
       "1             2     1  A02    15-4-SW-3-2         15-4-SW-3-2\n",
       "2             3     1  A03    17-100-SW-A  17-100-SW-A-1-1-37\n",
       "3             4     1  A04    17-100-SW-A  17-100-SW-A-1-3-30\n",
       "4             5     1  A05    17-100-SW-B  17-100-SW-B-1-1-30"
      ]
     },
     "execution_count": 239,
     "metadata": {},
     "output_type": "execute_result"
    }
   ],
   "source": [
    "# Create a pandas DataFrame from CSV Formatting all data as strings since all data is qualitative\n",
    "df = pd.read_csv(csv_in, dtype='str')\n",
    "\n",
    "# Get rid of the empty \"NA\" rows that Excel loves to include...\n",
    "df.dropna(inplace=True)\n",
    "\n",
    "# Print some summary statistics using \"f-strings\"\n",
    "print(f'Rows:   {len(df)}')\n",
    "print(f'Plates: {df.plate.nunique()}\\n')\n",
    "\n",
    "# Preview the first 5 rows\n",
    "df[:5]"
   ]
  },
  {
   "cell_type": "markdown",
   "metadata": {},
   "source": [
    "## CHECKING SAMPLE COUNT PER PLATE\n",
    "- Each `plate` should have **96** rows"
   ]
  },
  {
   "cell_type": "code",
   "execution_count": 256,
   "metadata": {},
   "outputs": [
    {
     "name": "stdout",
     "output_type": "stream",
     "text": [
      "[PASS] All 4 plates have 96 samples!\n"
     ]
    }
   ],
   "source": [
    "plates = df['plate'].value_counts()\n",
    "bad_plates = plates[plates != 96]\n",
    "try:\n",
    "    assert len(bad_plates) == 0\n",
    "    print(f'[PASS] All {len(plates)} plates have 96 samples!')\n",
    "except AssertionError:\n",
    "    print(f'[FAIL] Found {len(bad_plates)} of {len(plates)} that do not have 96 samples...')\n",
    "    print(bad_plates)"
   ]
  },
  {
   "cell_type": "markdown",
   "metadata": {},
   "source": [
    "## CHECKING FOR DUPLICATE SAMPLE NAMES\n",
    "- `sample-name` should be unique"
   ]
  },
  {
   "cell_type": "code",
   "execution_count": 245,
   "metadata": {},
   "outputs": [
    {
     "name": "stdout",
     "output_type": "stream",
     "text": [
      "[PASS] All sample names are unique!\n"
     ]
    }
   ],
   "source": [
    "duplicates = df[df['sample-name'].duplicated()]\n",
    "try:\n",
    "    assert len(duplicates) == 0\n",
    "    print('[PASS] All sample names are unique!')\n",
    "except AssertionError:\n",
    "    print(f'[FAIL] Found {len(duplicates)} duplicate sample names...')\n",
    "    print(duplicates)\n",
    "    "
   ]
  },
  {
   "cell_type": "markdown",
   "metadata": {},
   "source": [
    "## COMPARING THE SAMPLE NAME WITH THE RAW SAMPLE NAME\n",
    "- `sample-name` should start with `rawSample-name`"
   ]
  },
  {
   "cell_type": "code",
   "execution_count": 237,
   "metadata": {},
   "outputs": [
    {
     "name": "stdout",
     "output_type": "stream",
     "text": [
      "[PASS] Every sample-name starts with its rawSample-name!\n"
     ]
    }
   ],
   "source": [
    "bad_rows = df.iloc[pd.np.where(df['sample-name'].str.startswith(df['sample-name']) == False)]\n",
    "try:\n",
    "    assert len(bad_rows) == 0\n",
    "    print('[PASS] Every sample-name starts with its rawSample-name!')\n",
    "except AssertionError:\n",
    "    print(f'[FAIL] Found {len(bad_rows)} rows where sample-name does not contain rawSample-name')\n"
   ]
  },
  {
   "cell_type": "markdown",
   "metadata": {},
   "source": [
    "## CHECKING THE LENGTH OF SAMPLE NAMES\n",
    "- `sample-name` should be 100 characters or less"
   ]
  },
  {
   "cell_type": "code",
   "execution_count": 143,
   "metadata": {},
   "outputs": [
    {
     "name": "stdout",
     "output_type": "stream",
     "text": [
      "[PASS] All sample names are 100 characters or less!\n"
     ]
    }
   ],
   "source": [
    "bad_rows = df[df['sample-name'].str.len() > 100]\n",
    "try:\n",
    "    assert len(bad_rows) == 0\n",
    "    print('[PASS] All sample names are 100 characters or less!')\n",
    "except AssertionError:\n",
    "    print(f'[FAIL] Found {len(bad_rows)} bad rows...\\n')\n",
    "    print(bad_rows)"
   ]
  },
  {
   "cell_type": "markdown",
   "metadata": {},
   "source": [
    "## CHECKING THE FORMATTING OF SAMPLE NAMES \n",
    "- `sample-name` should only contain: [a-z], [A-Z], [0-9] or '-'\n",
    "- `sample-name` should not start or end with '-'"
   ]
  },
  {
   "cell_type": "code",
   "execution_count": 146,
   "metadata": {},
   "outputs": [
    {
     "name": "stdout",
     "output_type": "stream",
     "text": [
      "[PASS] All sample names are properly formatted!\n"
     ]
    }
   ],
   "source": [
    "bad_rows = df[df['sample-name'].str.match(r'^[a-zA-Z0-9]+[a-zA-Z0-9\\-]+[a-zA-Z0-9]$') == False]\n",
    "try:\n",
    "    assert len(bad_rows) == 0\n",
    "    print('[PASS] All sample names are properly formatted!')\n",
    "except AssertionError:\n",
    "    print(f'[FAIL] Found {len(bad_rows)} bad rows...')\n",
    "    print(bad_rows)"
   ]
  },
  {
   "cell_type": "markdown",
   "metadata": {},
   "source": [
    "## Everything appears to be in order..."
   ]
  },
  {
   "cell_type": "code",
   "execution_count": null,
   "metadata": {},
   "outputs": [],
   "source": []
  },
  {
   "cell_type": "markdown",
   "metadata": {},
   "source": []
  }
 ],
 "metadata": {
  "kernelspec": {
   "display_name": "Python 3",
   "language": "python",
   "name": "python3"
  },
  "language_info": {
   "codemirror_mode": {
    "name": "ipython",
    "version": 3
   },
   "file_extension": ".py",
   "mimetype": "text/x-python",
   "name": "python",
   "nbconvert_exporter": "python",
   "pygments_lexer": "ipython3",
   "version": "3.7.1"
  }
 },
 "nbformat": 4,
 "nbformat_minor": 4
}
